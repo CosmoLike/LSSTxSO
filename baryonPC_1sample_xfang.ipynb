{
 "cells": [
  {
   "cell_type": "code",
   "execution_count": 6,
   "metadata": {},
   "outputs": [],
   "source": [
    "import numpy as np"
   ]
  },
  {
   "cell_type": "code",
   "execution_count": 7,
   "metadata": {},
   "outputs": [],
   "source": [
    "list_SD36 = ['6x2pt_LSSTxSO_Y1_1sample','6x2pt_LSSTxSO_Y6_1sample'] # input datav prefix\n",
    "list_COV36 = ['cov_LSSTxSO_Y1_1sample_6x2pt.npy','cov_LSSTxSO_Y6_1sample_6x2pt.npy']\n",
    "\n",
    "list_outfiles = ['6x2pt_LSSTxSO_Y1_1sample','6x2pt_LSSTxSO_Y6_1sample','3x2pt_LSSTxSO_Y1_1sample','3x2pt_LSSTxSO_Y6_1sample'] # output datav filename\n",
    "\n",
    "dir_datav = \"datav/\"\n",
    "dir_bary = \"datav/\"\n",
    "dir_COV = \"cov/\"\n",
    "dir_LPC = \"baryons/\""
   ]
  },
  {
   "cell_type": "code",
   "execution_count": 78,
   "metadata": {},
   "outputs": [],
   "source": [
    "class gen_LPCi():\n",
    "    def __init__(self,id_SD,outfile,id_include=None):\n",
    "        '''\n",
    "            id_SD = 0~1, int\n",
    "        '''\n",
    "        self.id_SD = id_SD\n",
    "        self.id_include = id_include\n",
    "        self.outfile = outfile\n",
    "        self.list_bary_scenario = ['_eagle','_illustris','_TNG100','_mb2','_owls_AGN','_HzAGN']\n",
    "        self.datav_dmo = self.load_datav(dir_datav,bary_scenario=\"_dmo\",isCutted=1)\n",
    "        print(self.id_SD)\n",
    "        print(self.id_include)\n",
    "        \n",
    "        self.load_COV()\n",
    "        print(self.id_SD)\n",
    "        print(self.datav_dmo.shape, self.COV_cut.shape)\n",
    "        \n",
    "        self.cal_invL()\n",
    "        self.Ndata = len(self.datav_dmo)\n",
    "        self.Nscenario = len(self.list_bary_scenario)\n",
    "        \n",
    "        self.build_Ratio()\n",
    "        self.build_Delta()\n",
    "        self.build_DeltaChy()\n",
    "        self.SVD(in_Delta=self.DeltaChy)\n",
    "        self.write_LPC()\n",
    "        \n",
    "    \n",
    "    def load_datav(self,dir_path,bary_scenario,isCutted=0):\n",
    "        fname_datav = dir_path+list_SD36[self.id_SD]+bary_scenario\n",
    "        print(fname_datav)\n",
    "        datav = np.genfromtxt(fname_datav,skip_header=0,dtype=\"int,double\",usecols=[0,1],names=[\"ind\",\"obs\"])[\"obs\"]\n",
    "        if self.id_include is None:\n",
    "            self.id_include = np.arange(datav.size)\n",
    "        datav = datav[self.id_include]\n",
    "        \n",
    "        self.Ndata_full  = len(datav)\n",
    "        self.takeout_ID  = np.where(datav > 1e-20)[0]\n",
    "        self.zero_ID     = np.where(datav < 1e-20)[0]\n",
    "        \n",
    "        if isCutted==1:\n",
    "            return np.array(datav)[self.takeout_ID]\n",
    "        else:\n",
    "            return np.array(datav)\n",
    "        \n",
    "            \n",
    "    def load_COV(self):\n",
    "        \n",
    "        self.fname_COV = dir_COV+list_COV36[self.id_SD]\n",
    "        print(self.fname_COV)\n",
    "        self.COV_full = np.load(self.fname_COV)\n",
    "        self.COV_full = self.COV_full[self.id_include][:,self.id_include]\n",
    "        \n",
    "        self.COV_cut  = self.COV_full[self.takeout_ID][:,self.takeout_ID]\n",
    "        \n",
    "    def output_invCOV(self, outfile, sub_ind=None):\n",
    "        \n",
    "        self.invcov_masked = np.zeros((self.Ndata_full,self.Ndata_full))\n",
    "        invcov_cut = np.linalg.inv(self.COV_cut)\n",
    "        print(invcov_cut.shape)\n",
    "        print(self.takeout_ID.size)\n",
    "        for i in range(self.takeout_ID.size):\n",
    "            (self.invcov_masked[self.takeout_ID[i]])[self.takeout_ID] = invcov_cut[i]\n",
    "        if sub_ind is None:\n",
    "            narr = np.arange(self.Ndata_full)\n",
    "            col1 = np.repeat(narr, self.Ndata_full)\n",
    "            col2 = np.tile(narr, self.Ndata_full)\n",
    "            np.savetxt(outfile, np.c_[col1, col2, self.invcov_masked.flatten()], fmt='%d %d %le')\n",
    "        else:\n",
    "            Nsub = sub_ind.size\n",
    "            narr = np.arange(Nsub)\n",
    "            col1 = np.repeat(narr, Nsub)\n",
    "            col2 = np.tile(narr, Nsub)\n",
    "            np.savetxt(outfile, np.c_[col1, col2, (self.invcov_masked[sub_ind][:,sub_ind]).flatten()], fmt='%d %d %le')\n",
    "        print('inv cov saved!')\n",
    "    \n",
    "    def cal_invL(self):\n",
    "        self.L    = np.linalg.cholesky(self.COV_cut)\n",
    "        self.invL =  np.linalg.inv(self.L)\n",
    "        \n",
    "    def build_Ratio(self):\n",
    "        self.Ratio     = np.zeros((self.Ndata,self.Nscenario))\n",
    "        \n",
    "        for j in range(self.Nscenario):\n",
    "        \n",
    "            datav_bary = self.load_datav(dir_bary,bary_scenario=self.list_bary_scenario[j],isCutted=1)\n",
    "            self.Ratio.T[j] = datav_bary/self.datav_dmo\n",
    "            \n",
    "    def build_Delta(self):\n",
    "        DeltaT = self.Ratio.T*self.datav_dmo-self.datav_dmo\n",
    "        self.Delta = DeltaT.T\n",
    "    \n",
    "    def build_DeltaChy(self):\n",
    "        self.DeltaChy = np.dot(self.invL,self.Delta)\n",
    "        \n",
    "    def SVD(self,in_Delta):\n",
    "        # self.U stores PC modes\n",
    "        # PC1 = self.U.T[0]  ; PC2 = self.U.T[1]\n",
    "        self.U, self.Sdig, VT = np.linalg.svd(in_Delta,full_matrices=True)\n",
    "    \n",
    "    def gen_datav_cosmolike_format(self,datav_cut):\n",
    "        \n",
    "        datav_full = np.zeros(self.Ndata_full)\n",
    "        datav_full[self.takeout_ID] = datav_cut\n",
    "        \n",
    "        return datav_full\n",
    "\n",
    "    \n",
    "    def write_LPC(self):\n",
    "        \n",
    "        self.fname_out = dir_LPC+'LPC_'+self.outfile\n",
    "        \n",
    "        self.LPC1 = self.gen_datav_cosmolike_format(np.dot(self.L,self.U.T[0]))\n",
    "        self.LPC2 = self.gen_datav_cosmolike_format(np.dot(self.L,self.U.T[1]))\n",
    "        self.LPC3 = self.gen_datav_cosmolike_format(np.dot(self.L,self.U.T[2]))\n",
    "        self.LPC4 = self.gen_datav_cosmolike_format(np.dot(self.L,self.U.T[3]))\n",
    "        self.LPC5 = self.gen_datav_cosmolike_format(np.dot(self.L,self.U.T[4]))\n",
    "        self.LPC6 = self.gen_datav_cosmolike_format(np.dot(self.L,self.U.T[5]))\n",
    "        \n",
    "        col_names='LPC1 LPC2 LPC3 LPC4 LPC5 LPC6'\n",
    "        \n",
    "        LPC_Matrix=np.column_stack((self.LPC1,self.LPC2,self.LPC3,self.LPC4,self.LPC5,self.LPC6))\n",
    "\n",
    "        np.savetxt(self.fname_out,LPC_Matrix, fmt='%.8e %.8e %.8e %.8e %.8e %.8e')\n",
    "\n",
    "       "
   ]
  },
  {
   "cell_type": "code",
   "execution_count": 79,
   "metadata": {},
   "outputs": [
    {
     "name": "stdout",
     "output_type": "stream",
     "text": [
      "datav/6x2pt_LSSTxSO_Y1_1sample_dmo\n",
      "0\n",
      "[   0    1    2 ... 1962 1963 1964]\n",
      "cov/cov_LSSTxSO_Y1_1sample_6x2pt.npy\n",
      "0\n",
      "(1509,) (1509, 1509)\n",
      "datav/6x2pt_LSSTxSO_Y1_1sample_eagle\n",
      "datav/6x2pt_LSSTxSO_Y1_1sample_illustris\n",
      "datav/6x2pt_LSSTxSO_Y1_1sample_TNG100\n",
      "datav/6x2pt_LSSTxSO_Y1_1sample_mb2\n",
      "datav/6x2pt_LSSTxSO_Y1_1sample_owls_AGN\n",
      "datav/6x2pt_LSSTxSO_Y1_1sample_HzAGN\n",
      "datav/6x2pt_LSSTxSO_Y6_1sample_dmo\n",
      "1\n",
      "[   0    1    2 ... 1962 1963 1964]\n",
      "cov/cov_LSSTxSO_Y6_1sample_6x2pt.npy\n",
      "1\n",
      "(1526,) (1526, 1526)\n",
      "datav/6x2pt_LSSTxSO_Y6_1sample_eagle\n",
      "datav/6x2pt_LSSTxSO_Y6_1sample_illustris\n",
      "datav/6x2pt_LSSTxSO_Y6_1sample_TNG100\n",
      "datav/6x2pt_LSSTxSO_Y6_1sample_mb2\n",
      "datav/6x2pt_LSSTxSO_Y6_1sample_owls_AGN\n",
      "datav/6x2pt_LSSTxSO_Y6_1sample_HzAGN\n"
     ]
    }
   ],
   "source": [
    "PCA0 = gen_LPCi(0, list_outfiles[0])\n",
    "PCA1 = gen_LPCi(1, list_outfiles[1])"
   ]
  },
  {
   "cell_type": "code",
   "execution_count": 74,
   "metadata": {},
   "outputs": [
    {
     "name": "stdout",
     "output_type": "stream",
     "text": [
      "(1509, 1509)\n",
      "1509\n",
      "inv cov saved!\n"
     ]
    }
   ],
   "source": [
    "PCA0.output_invCOV('invcov_Y1_6x2pt_1sample')"
   ]
  },
  {
   "cell_type": "code",
   "execution_count": 80,
   "metadata": {},
   "outputs": [
    {
     "name": "stdout",
     "output_type": "stream",
     "text": [
      "(1509, 1509)\n",
      "1509\n",
      "inv cov saved!\n"
     ]
    }
   ],
   "source": [
    "PCA0.output_invCOV('invcov_Y1_3x2pt_1sample', np.arange(1650))"
   ]
  },
  {
   "cell_type": "code",
   "execution_count": 81,
   "metadata": {},
   "outputs": [
    {
     "name": "stdout",
     "output_type": "stream",
     "text": [
      "(1526, 1526)\n",
      "1526\n",
      "inv cov saved!\n",
      "(1526, 1526)\n",
      "1526\n",
      "inv cov saved!\n"
     ]
    }
   ],
   "source": [
    "PCA1.output_invCOV('invcov_Y6_6x2pt_1sample')\n",
    "PCA1.output_invCOV('invcov_Y6_3x2pt_1sample', np.arange(1650))"
   ]
  },
  {
   "cell_type": "code",
   "execution_count": 12,
   "metadata": {},
   "outputs": [],
   "source": [
    "def cal_Qexp(PCA, scenario):\n",
    "    datav_bary = PCA.load_datav(dir_path=dir_datav, bary_scenario='_'+scenario, isCutted=1)\n",
    "    diff = datav_bary - PCA.datav_dmo\n",
    "    diff_chy = np.dot(PCA.invL, diff)\n",
    "    Qexp = np.dot(PCA.U.T,diff_chy)\n",
    "    return Qexp"
   ]
  },
  {
   "cell_type": "code",
   "execution_count": 15,
   "metadata": {},
   "outputs": [
    {
     "name": "stdout",
     "output_type": "stream",
     "text": [
      "datav/6x2pt_LSSTxSO_Y1_1sample_dmo\n",
      "datav/6x2pt_LSSTxSO_Y1_1sample_eagle\n",
      "datav/6x2pt_LSSTxSO_Y1_1sample_illustris\n",
      "datav/6x2pt_LSSTxSO_Y1_1sample_TNG100\n",
      "datav/6x2pt_LSSTxSO_Y1_1sample_mb2\n",
      "datav/6x2pt_LSSTxSO_Y1_1sample_owls_AGN\n",
      "datav/6x2pt_LSSTxSO_Y1_1sample_HzAGN\n",
      "dmo [0. 0. 0. 0.]\n",
      "eagle [ 3.456611    1.62711608 -0.27714792 -0.40454005]\n",
      "illustris [32.05850093 -1.89998756 -0.35409335 -0.05223627]\n",
      "TNG100 [ 4.34292504  1.26050325 -0.42750571 -0.21162027]\n",
      "mb2 [-0.69363915 -0.90890764  0.73642071 -0.39654304]\n",
      "owls_AGN [23.45113748  1.59793461  0.62864714  0.11534034]\n",
      "HzAGN [ 6.49379009  1.80300505 -0.01006508  0.15585429]\n"
     ]
    }
   ],
   "source": [
    "baryons = ['dmo','eagle','illustris','TNG100','mb2','owls_AGN','HzAGN']\n",
    "Qexps = [None]*7\n",
    "for i in range(7):\n",
    "    Qexps[i] = cal_Qexp(PCA0, scenario=baryons[i])\n",
    "for i in range(7):\n",
    "    print(baryons[i], (Qexps[i])[0:4])"
   ]
  },
  {
   "cell_type": "code",
   "execution_count": 16,
   "metadata": {},
   "outputs": [
    {
     "name": "stdout",
     "output_type": "stream",
     "text": [
      "datav/6x2pt_LSSTxSO_Y6_1sample_dmo\n",
      "datav/6x2pt_LSSTxSO_Y6_1sample_eagle\n",
      "datav/6x2pt_LSSTxSO_Y6_1sample_illustris\n",
      "datav/6x2pt_LSSTxSO_Y6_1sample_TNG100\n",
      "datav/6x2pt_LSSTxSO_Y6_1sample_mb2\n",
      "datav/6x2pt_LSSTxSO_Y6_1sample_owls_AGN\n",
      "datav/6x2pt_LSSTxSO_Y6_1sample_HzAGN\n",
      "dmo [0. 0. 0. 0.]\n",
      "eagle [ 6.7738321   3.09365026  0.63754419 -0.68183645]\n",
      "illustris [57.01858866 -3.46007771  0.8776926  -0.1088936 ]\n",
      "TNG100 [ 8.11118841  2.36521868  0.96303978 -0.36382013]\n",
      "mb2 [-1.18221791 -1.563422   -1.6866233  -0.7042721 ]\n",
      "owls_AGN [43.66981997  2.64192559 -1.47324631  0.21117609]\n",
      "HzAGN [12.61655572  3.16468505  0.01328706  0.29516724]\n"
     ]
    }
   ],
   "source": [
    "Qexps = [None]*7\n",
    "for i in range(7):\n",
    "    Qexps[i] = cal_Qexp(PCA1, scenario=baryons[i])\n",
    "for i in range(7):\n",
    "    print(baryons[i], (Qexps[i])[0:4])"
   ]
  },
  {
   "cell_type": "code",
   "execution_count": 17,
   "metadata": {},
   "outputs": [
    {
     "name": "stdout",
     "output_type": "stream",
     "text": [
      "datav/6x2pt_LSSTxSO_Y1_1sample_dmo\n",
      "0\n",
      "[   0    1    2 ... 1647 1648 1649]\n",
      "cov/cov_LSSTxSO_Y1_1sample_6x2pt.npy\n",
      "0\n",
      "(1254,) (1254, 1254)\n",
      "datav/6x2pt_LSSTxSO_Y1_1sample_eagle\n",
      "datav/6x2pt_LSSTxSO_Y1_1sample_illustris\n",
      "datav/6x2pt_LSSTxSO_Y1_1sample_TNG100\n",
      "datav/6x2pt_LSSTxSO_Y1_1sample_mb2\n",
      "datav/6x2pt_LSSTxSO_Y1_1sample_owls_AGN\n",
      "datav/6x2pt_LSSTxSO_Y1_1sample_HzAGN\n",
      "datav/6x2pt_LSSTxSO_Y6_1sample_dmo\n",
      "1\n",
      "[   0    1    2 ... 1647 1648 1649]\n",
      "cov/cov_LSSTxSO_Y6_1sample_6x2pt.npy\n",
      "1\n",
      "(1268,) (1268, 1268)\n",
      "datav/6x2pt_LSSTxSO_Y6_1sample_eagle\n",
      "datav/6x2pt_LSSTxSO_Y6_1sample_illustris\n",
      "datav/6x2pt_LSSTxSO_Y6_1sample_TNG100\n",
      "datav/6x2pt_LSSTxSO_Y6_1sample_mb2\n",
      "datav/6x2pt_LSSTxSO_Y6_1sample_owls_AGN\n",
      "datav/6x2pt_LSSTxSO_Y6_1sample_HzAGN\n"
     ]
    }
   ],
   "source": [
    "nsource = 10\n",
    "nshear = nsource*(nsource+1)/2\n",
    "ntheta = 15\n",
    "nlens = 10\n",
    "\n",
    "ndata3x2pt= 1965 - (nlens + nsource + 1)*ntheta\n",
    "PCA3x2pt_0 = gen_LPCi(0, list_outfiles[2], np.arange(ndata3x2pt))\n",
    "\n",
    "ndata3x2pt= 1965 - (nlens + nsource + 1)*ntheta\n",
    "PCA3x2pt_1 = gen_LPCi(1, list_outfiles[3], np.arange(ndata3x2pt))"
   ]
  },
  {
   "cell_type": "code",
   "execution_count": 18,
   "metadata": {},
   "outputs": [
    {
     "name": "stdout",
     "output_type": "stream",
     "text": [
      "datav/6x2pt_LSSTxSO_Y1_1sample_dmo\n",
      "datav/6x2pt_LSSTxSO_Y1_1sample_eagle\n",
      "datav/6x2pt_LSSTxSO_Y1_1sample_illustris\n",
      "datav/6x2pt_LSSTxSO_Y1_1sample_TNG100\n",
      "datav/6x2pt_LSSTxSO_Y1_1sample_mb2\n",
      "datav/6x2pt_LSSTxSO_Y1_1sample_owls_AGN\n",
      "datav/6x2pt_LSSTxSO_Y1_1sample_HzAGN\n",
      "dmo [0. 0. 0. 0.]\n",
      "eagle [ 3.44293757  1.61667994 -0.26892889 -0.39729399]\n",
      "illustris [31.60455975 -1.8730469  -0.35415214 -0.05452694]\n",
      "TNG100 [ 4.31146524  1.25145149 -0.42205671 -0.20891445]\n",
      "mb2 [-0.7074309  -0.89304502  0.73832195 -0.38785248]\n",
      "owls_AGN [23.19967429  1.55917249  0.62600195  0.11743608]\n",
      "HzAGN [ 6.45844805  1.76993657 -0.00964917  0.15375645]\n"
     ]
    }
   ],
   "source": [
    "Qexps = [None]*7\n",
    "for i in range(7):\n",
    "    Qexps[i] = cal_Qexp(PCA3x2pt_0, scenario=baryons[i])\n",
    "for i in range(7):\n",
    "    print(baryons[i], (Qexps[i])[0:4])"
   ]
  },
  {
   "cell_type": "code",
   "execution_count": 19,
   "metadata": {},
   "outputs": [
    {
     "name": "stdout",
     "output_type": "stream",
     "text": [
      "datav/6x2pt_LSSTxSO_Y6_1sample_dmo\n",
      "datav/6x2pt_LSSTxSO_Y6_1sample_eagle\n",
      "datav/6x2pt_LSSTxSO_Y6_1sample_illustris\n",
      "datav/6x2pt_LSSTxSO_Y6_1sample_TNG100\n",
      "datav/6x2pt_LSSTxSO_Y6_1sample_mb2\n",
      "datav/6x2pt_LSSTxSO_Y6_1sample_owls_AGN\n",
      "datav/6x2pt_LSSTxSO_Y6_1sample_HzAGN\n",
      "dmo [0. 0. 0. 0.]\n",
      "eagle [ 6.70667775  3.05631542  0.60305419 -0.6585439 ]\n",
      "illustris [55.36431783 -3.36021326  0.88251907 -0.11504096]\n",
      "TNG100 [ 7.97993676  2.34085612  0.93713952 -0.35226939]\n",
      "mb2 [-1.21261808 -1.53298437 -1.68252843 -0.68000078]\n",
      "owls_AGN [42.68298526  2.50650717 -1.4643728   0.21658973]\n",
      "HzAGN [1.24477706e+01 3.05389428e+00 6.48051377e-03 2.83393367e-01]\n"
     ]
    }
   ],
   "source": [
    "Qexps = [None]*7\n",
    "for i in range(7):\n",
    "    Qexps[i] = cal_Qexp(PCA3x2pt_1, scenario=baryons[i])\n",
    "for i in range(7):\n",
    "    print(baryons[i], (Qexps[i])[0:4])"
   ]
  },
  {
   "cell_type": "code",
   "execution_count": null,
   "metadata": {},
   "outputs": [],
   "source": []
  }
 ],
 "metadata": {
  "kernelspec": {
   "display_name": "Python 3",
   "language": "python",
   "name": "python3"
  },
  "language_info": {
   "codemirror_mode": {
    "name": "ipython",
    "version": 3
   },
   "file_extension": ".py",
   "mimetype": "text/x-python",
   "name": "python",
   "nbconvert_exporter": "python",
   "pygments_lexer": "ipython3",
   "version": "3.8.0"
  }
 },
 "nbformat": 4,
 "nbformat_minor": 2
}
