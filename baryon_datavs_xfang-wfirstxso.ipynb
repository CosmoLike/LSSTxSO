{
 "cells": [
  {
   "cell_type": "code",
   "execution_count": 1,
   "metadata": {},
   "outputs": [],
   "source": [
    "import numpy as np\n",
    "from subprocess import call"
   ]
  },
  {
   "cell_type": "code",
   "execution_count": 2,
   "metadata": {},
   "outputs": [],
   "source": [
    "baryon_types = ['dmo','eagle','illustris','TNG100','mb2','owls_AGN','HzAGN']\n",
    "cmbs = 'so_Y5'"
   ]
  },
  {
   "cell_type": "code",
   "execution_count": 5,
   "metadata": {},
   "outputs": [
    {
     "name": "stdout",
     "output_type": "stream",
     "text": [
      "cmb so_Y5, dmo, done.\n",
      "cmb so_Y5, eagle, done.\n",
      "cmb so_Y5, illustris, done.\n",
      "cmb so_Y5, TNG100, done.\n",
      "cmb so_Y5, mb2, done.\n",
      "cmb so_Y5, owls_AGN, done.\n",
      "cmb so_Y5, HzAGN, done.\n",
      "Done!\n"
     ]
    }
   ],
   "source": [
    "for baryon in baryon_types:\n",
    "    call([\"./like_fourier_wfirstxso\",\"0\",baryon,cmbs])\n",
    "    print(\"cmb %s, %s, done.\"%(cmbs,baryon))\n",
    "print(\"Done!\")"
   ]
  },
  {
   "cell_type": "code",
   "execution_count": null,
   "metadata": {},
   "outputs": [],
   "source": []
  }
 ],
 "metadata": {
  "kernelspec": {
   "display_name": "Python 3",
   "language": "python",
   "name": "python3"
  },
  "language_info": {
   "codemirror_mode": {
    "name": "ipython",
    "version": 3
   },
   "file_extension": ".py",
   "mimetype": "text/x-python",
   "name": "python",
   "nbconvert_exporter": "python",
   "pygments_lexer": "ipython3",
   "version": "3.8.0"
  }
 },
 "nbformat": 4,
 "nbformat_minor": 4
}
