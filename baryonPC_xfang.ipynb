{
 "cells": [
  {
   "cell_type": "code",
   "execution_count": 1,
   "metadata": {},
   "outputs": [],
   "source": [
    "import numpy as np"
   ]
  },
  {
   "cell_type": "code",
   "execution_count": 2,
   "metadata": {},
   "outputs": [],
   "source": [
    "list_SD36 = ['6x2pt_LSSTxSO_Y1','6x2pt_LSSTxSO_Y6']\n",
    "list_COV36 = ['cov_LSSTxSO_Y1_6x2pt.npy','cov_LSSTxSO_Y6_6x2pt.npy']\n",
    "\n",
    "list_outfiles = ['6x2pt_LSSTxSO_Y1','6x2pt_LSSTxSO_Y6','3x2pt_LSSTxSO_Y1','3x2pt_LSSTxSO_Y6']\n",
    "\n",
    "dir_datav = \"datav/\"\n",
    "dir_bary = \"datav/\"\n",
    "dir_COV = \"cov/\"\n",
    "dir_LPC = \"baryons/\""
   ]
  },
  {
   "cell_type": "code",
   "execution_count": 4,
   "metadata": {},
   "outputs": [],
   "source": [
    "class gen_LPCi():\n",
    "    def __init__(self,id_SD,outfile,id_include=None):\n",
    "        '''\n",
    "            id_SD = 0~1, int\n",
    "        '''\n",
    "        self.id_SD = id_SD\n",
    "        self.id_include = id_include\n",
    "        self.outfile = outfile\n",
    "        self.list_bary_scenario = ['_eagle','_illustris','_TNG100','_mb2','_owls_AGN','_HzAGN']\n",
    "        self.datav_dmo = self.load_datav(dir_datav,bary_scenario=\"_dmo\",isCutted=1)\n",
    "        print(self.id_SD)\n",
    "        print(self.id_include)\n",
    "        \n",
    "        self.load_COV()\n",
    "        print( self.id_SD)\n",
    "        print( self.datav_dmo.shape, self.COV_cut.shape)\n",
    "        \n",
    "        self.cal_invL()\n",
    "        self.Ndata = len(self.datav_dmo)\n",
    "        self.Nscenario = len(self.list_bary_scenario)\n",
    "        \n",
    "        self.build_Ratio()\n",
    "        self.build_Delta()\n",
    "        self.build_DeltaChy()\n",
    "        self.SVD(in_Delta=self.DeltaChy)\n",
    "        self.write_LPC()\n",
    "        \n",
    "    \n",
    "    def load_datav(self,dir_path,bary_scenario,isCutted=0):\n",
    "        fname_datav = dir_path+list_SD36[self.id_SD]+bary_scenario\n",
    "        print( fname_datav)\n",
    "        datav = np.genfromtxt(fname_datav,skip_header=0,dtype=\"int,double\",usecols=[0,1],names=[\"ind\",\"obs\"])[\"obs\"]\n",
    "        if self.id_include is None:\n",
    "            self.id_include = np.arange(datav.size)\n",
    "        datav = datav[self.id_include]\n",
    "        \n",
    "        self.Ndata_full  = len(datav)\n",
    "        self.takeout_ID  = np.where(datav > 1e-20)[0]\n",
    "        self.zero_ID     = np.where(datav < 1e-20)[0]\n",
    "        \n",
    "        if isCutted==1:\n",
    "            return np.array(datav)[self.takeout_ID]\n",
    "        else:\n",
    "            return np.array(datav)\n",
    "        \n",
    "            \n",
    "    def load_COV(self):\n",
    "        \n",
    "        self.fname_COV = dir_COV+list_COV36[self.id_SD]\n",
    "        print( self.fname_COV)\n",
    "        self.COV_full = np.load(self.fname_COV)\n",
    "        self.COV_full = self.COV_full[self.id_include][:,self.id_include]\n",
    "        \n",
    "        self.COV_cut  = self.COV_full[self.takeout_ID][:,self.takeout_ID]\n",
    "    \n",
    "    \n",
    "    def cal_invL(self):\n",
    "        self.L    = np.linalg.cholesky(self.COV_cut)\n",
    "        self.invL =  np.linalg.inv(self.L)\n",
    "        \n",
    "    def build_Ratio(self):\n",
    "        self.Ratio     = np.zeros((self.Ndata,self.Nscenario))\n",
    "        \n",
    "        for j in range(self.Nscenario):\n",
    "        \n",
    "            datav_bary = self.load_datav(dir_bary,bary_scenario=self.list_bary_scenario[j],isCutted=1)\n",
    "            self.Ratio.T[j] = datav_bary/self.datav_dmo\n",
    "            \n",
    "    def build_Delta(self):\n",
    "        DeltaT = self.Ratio.T*self.datav_dmo-self.datav_dmo\n",
    "        self.Delta = DeltaT.T\n",
    "    \n",
    "    def build_DeltaChy(self):\n",
    "        self.DeltaChy = np.dot(self.invL,self.Delta)\n",
    "        \n",
    "    def SVD(self,in_Delta):\n",
    "        # self.U stores PC modes\n",
    "        # PC1 = self.U.T[0]  ; PC2 = self.U.T[1]\n",
    "        self.U, self.Sdig, VT = np.linalg.svd(in_Delta,full_matrices=True)\n",
    "    \n",
    "    def gen_datav_cosmolike_format(self,datav_cut):\n",
    "        \n",
    "        datav_full = np.zeros(self.Ndata_full)\n",
    "        datav_full[self.takeout_ID] = datav_cut\n",
    "        \n",
    "        return datav_full\n",
    "\n",
    "    \n",
    "    def write_LPC(self):\n",
    "        \n",
    "        self.fname_out = dir_LPC+'LPC_'+self.outfile\n",
    "        \n",
    "        self.LPC1 = self.gen_datav_cosmolike_format(np.dot(self.L,self.U.T[0]))\n",
    "        self.LPC2 = self.gen_datav_cosmolike_format(np.dot(self.L,self.U.T[1]))\n",
    "        self.LPC3 = self.gen_datav_cosmolike_format(np.dot(self.L,self.U.T[2]))\n",
    "        self.LPC4 = self.gen_datav_cosmolike_format(np.dot(self.L,self.U.T[3]))\n",
    "        self.LPC5 = self.gen_datav_cosmolike_format(np.dot(self.L,self.U.T[4]))\n",
    "        self.LPC6 = self.gen_datav_cosmolike_format(np.dot(self.L,self.U.T[5]))\n",
    "        \n",
    "        col_names='LPC1 LPC2 LPC3 LPC4 LPC5 LPC6'\n",
    "        \n",
    "        LPC_Matrix=np.column_stack((self.LPC1,self.LPC2,self.LPC3,self.LPC4,self.LPC5,self.LPC6))\n",
    "\n",
    "        np.savetxt(self.fname_out,LPC_Matrix, fmt='%.8e %.8e %.8e %.8e %.8e %.8e')\n",
    "\n",
    "       "
   ]
  },
  {
   "cell_type": "code",
   "execution_count": 9,
   "metadata": {},
   "outputs": [
    {
     "name": "stdout",
     "output_type": "stream",
     "text": [
      "datav/6x2pt_LSSTxSO_Y1_dmo\n",
      "0\n",
      "[   0    1    2 ... 1962 1963 1964]\n",
      "cov/cov_LSSTxSO_Y1_6x2pt.npy\n",
      "0\n",
      "(1583,) (1583, 1583)\n",
      "datav/6x2pt_LSSTxSO_Y1_eagle\n",
      "datav/6x2pt_LSSTxSO_Y1_illustris\n",
      "datav/6x2pt_LSSTxSO_Y1_TNG100\n",
      "datav/6x2pt_LSSTxSO_Y1_mb2\n",
      "datav/6x2pt_LSSTxSO_Y1_owls_AGN\n",
      "datav/6x2pt_LSSTxSO_Y1_HzAGN\n",
      "datav/6x2pt_LSSTxSO_Y6_dmo\n",
      "1\n",
      "[   0    1    2 ... 2067 2068 2069]\n",
      "cov/cov_LSSTxSO_Y6_6x2pt.npy\n",
      "1\n",
      "(1652,) (1652, 1652)\n",
      "datav/6x2pt_LSSTxSO_Y6_eagle\n",
      "datav/6x2pt_LSSTxSO_Y6_illustris\n",
      "datav/6x2pt_LSSTxSO_Y6_TNG100\n",
      "datav/6x2pt_LSSTxSO_Y6_mb2\n",
      "datav/6x2pt_LSSTxSO_Y6_owls_AGN\n",
      "datav/6x2pt_LSSTxSO_Y6_HzAGN\n"
     ]
    }
   ],
   "source": [
    "PCA0 = gen_LPCi(0, list_outfiles[0])\n",
    "PCA1 = gen_LPCi(1, list_outfiles[1])"
   ]
  },
  {
   "cell_type": "code",
   "execution_count": 10,
   "metadata": {},
   "outputs": [],
   "source": [
    "def cal_Qexp(PCA, scenario):\n",
    "    datav_bary = PCA.load_datav(dir_path=dir_datav, bary_scenario='_'+scenario, isCutted=1)\n",
    "    diff = datav_bary - PCA.datav_dmo\n",
    "    diff_chy = np.dot(PCA.invL, diff)\n",
    "    Qexp = np.dot(PCA.U.T,diff_chy)\n",
    "    return Qexp"
   ]
  },
  {
   "cell_type": "code",
   "execution_count": 12,
   "metadata": {},
   "outputs": [
    {
     "name": "stdout",
     "output_type": "stream",
     "text": [
      "datav/6x2pt_LSSTxSO_Y1_dmo\n",
      "datav/6x2pt_LSSTxSO_Y1_eagle\n",
      "datav/6x2pt_LSSTxSO_Y1_illustris\n",
      "datav/6x2pt_LSSTxSO_Y1_TNG100\n",
      "datav/6x2pt_LSSTxSO_Y1_mb2\n",
      "datav/6x2pt_LSSTxSO_Y1_owls_AGN\n",
      "datav/6x2pt_LSSTxSO_Y1_HzAGN\n",
      "dmo [0. 0. 0. 0.]\n",
      "eagle [ 3.45839206  1.63435742 -0.28089626 -0.40750704]\n",
      "illustris [32.09926608 -1.91162123 -0.35671055 -0.05293612]\n",
      "TNG100 [ 4.34498265  1.26551574 -0.43011714 -0.21229347]\n",
      "mb2 [-0.69050426 -0.91596979  0.73716892 -0.40364654]\n",
      "owls_AGN [23.48026038  1.60905155  0.63381938  0.11803969]\n",
      "HzAGN [ 6.499948    1.81498612 -0.01273518  0.15086567]\n"
     ]
    }
   ],
   "source": [
    "baryons = ['dmo','eagle','illustris','TNG100','mb2','owls_AGN','HzAGN']\n",
    "Qexps = [None]*7\n",
    "for i in range(7):\n",
    "    Qexps[i] = cal_Qexp(PCA0, scenario=baryons[i])\n",
    "for i in range(7):\n",
    "    print(baryons[i], (Qexps[i])[0:4])"
   ]
  },
  {
   "cell_type": "code",
   "execution_count": 13,
   "metadata": {},
   "outputs": [
    {
     "name": "stdout",
     "output_type": "stream",
     "text": [
      "datav/6x2pt_LSSTxSO_Y6_dmo\n",
      "datav/6x2pt_LSSTxSO_Y6_eagle\n",
      "datav/6x2pt_LSSTxSO_Y6_illustris\n",
      "datav/6x2pt_LSSTxSO_Y6_TNG100\n",
      "datav/6x2pt_LSSTxSO_Y6_mb2\n",
      "datav/6x2pt_LSSTxSO_Y6_owls_AGN\n",
      "datav/6x2pt_LSSTxSO_Y6_HzAGN\n",
      "dmo [0. 0. 0. 0.]\n",
      "eagle [6.69337005 3.10847624 0.63606915 0.68697397]\n",
      "illustris [56.08652816 -3.48101119  0.8847373   0.11141105]\n",
      "TNG100 [7.99790386 2.37962139 0.95893288 0.36323883]\n",
      "mb2 [-1.13840229 -1.58305844 -1.68776822  0.71115944]\n",
      "owls_AGN [43.07818774  2.6446712  -1.47880971 -0.217606  ]\n",
      "HzAGN [12.46745704  3.1818732   0.0187962  -0.28621088]\n"
     ]
    }
   ],
   "source": [
    "Qexps = [None]*7\n",
    "for i in range(7):\n",
    "    Qexps[i] = cal_Qexp(PCA1, scenario=baryons[i])\n",
    "for i in range(7):\n",
    "    print(baryons[i], (Qexps[i])[0:4])"
   ]
  },
  {
   "cell_type": "code",
   "execution_count": 6,
   "metadata": {},
   "outputs": [
    {
     "name": "stdout",
     "output_type": "stream",
     "text": [
      "datav/6x2pt_LSSTxSO_Y1_dmo\n",
      "0\n",
      "[   0    1    2 ... 1647 1648 1649]\n",
      "cov/cov_LSSTxSO_Y1_6x2pt.npy\n",
      "0\n",
      "(1323,) (1323, 1323)\n",
      "datav/6x2pt_LSSTxSO_Y1_eagle\n",
      "datav/6x2pt_LSSTxSO_Y1_illustris\n",
      "datav/6x2pt_LSSTxSO_Y1_TNG100\n",
      "datav/6x2pt_LSSTxSO_Y1_mb2\n",
      "datav/6x2pt_LSSTxSO_Y1_owls_AGN\n",
      "datav/6x2pt_LSSTxSO_Y1_HzAGN\n",
      "datav/6x2pt_LSSTxSO_Y6_dmo\n",
      "1\n",
      "[   0    1    2 ... 1752 1753 1754]\n",
      "cov/cov_LSSTxSO_Y6_6x2pt.npy\n",
      "1\n",
      "(1392,) (1392, 1392)\n",
      "datav/6x2pt_LSSTxSO_Y6_eagle\n",
      "datav/6x2pt_LSSTxSO_Y6_illustris\n",
      "datav/6x2pt_LSSTxSO_Y6_TNG100\n",
      "datav/6x2pt_LSSTxSO_Y6_mb2\n",
      "datav/6x2pt_LSSTxSO_Y6_owls_AGN\n",
      "datav/6x2pt_LSSTxSO_Y6_HzAGN\n"
     ]
    },
    {
     "data": {
      "text/plain": [
       "<__main__.gen_LPCi at 0x1116f5850>"
      ]
     },
     "execution_count": 6,
     "metadata": {},
     "output_type": "execute_result"
    }
   ],
   "source": [
    "nsource = 10\n",
    "nshear = nsource*(nsource+1)/2\n",
    "ntheta = 15\n",
    "nlens = 10\n",
    "\n",
    "ndata3x2pt= 1965 - (nlens + nsource + 1)*ntheta\n",
    "gen_LPCi(0, list_outfiles[2], np.arange(ndata3x2pt))\n",
    "\n",
    "ndata3x2pt= 2070 - (nlens + nsource + 1)*ntheta\n",
    "gen_LPCi(1, list_outfiles[3], np.arange(ndata3x2pt))"
   ]
  },
  {
   "cell_type": "code",
   "execution_count": null,
   "metadata": {
    "collapsed": true
   },
   "outputs": [],
   "source": []
  }
 ],
 "metadata": {
  "kernelspec": {
   "display_name": "Python 3",
   "language": "python",
   "name": "python3"
  },
  "language_info": {
   "codemirror_mode": {
    "name": "ipython",
    "version": 3
   },
   "file_extension": ".py",
   "mimetype": "text/x-python",
   "name": "python",
   "nbconvert_exporter": "python",
   "pygments_lexer": "ipython3",
   "version": "3.8.0"
  }
 },
 "nbformat": 4,
 "nbformat_minor": 2
}
