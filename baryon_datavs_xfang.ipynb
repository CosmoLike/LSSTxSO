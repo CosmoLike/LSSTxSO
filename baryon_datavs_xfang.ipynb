{
 "cells": [
  {
   "cell_type": "code",
   "execution_count": 8,
   "metadata": {},
   "outputs": [],
   "source": [
    "import numpy as np\n",
    "from subprocess import call"
   ]
  },
  {
   "cell_type": "code",
   "execution_count": 9,
   "metadata": {},
   "outputs": [],
   "source": [
    "baryon_types = ['dmo','eagle','illustris','TNG100','mb2','owls_AGN','HzAGN']\n",
    "cmbs = ['so_Y1','so_Y5']"
   ]
  },
  {
   "cell_type": "code",
   "execution_count": 11,
   "metadata": {},
   "outputs": [
    {
     "name": "stdout",
     "output_type": "stream",
     "text": [
      "cmb so_Y1, dmo, done.\n",
      "cmb so_Y1, eagle, done.\n",
      "cmb so_Y1, illustris, done.\n",
      "cmb so_Y1, TNG100, done.\n",
      "cmb so_Y1, mb2, done.\n",
      "cmb so_Y1, owls_AGN, done.\n",
      "cmb so_Y1, HzAGN, done.\n",
      "cmb so_Y5, dmo, done.\n",
      "cmb so_Y5, eagle, done.\n",
      "cmb so_Y5, illustris, done.\n",
      "cmb so_Y5, TNG100, done.\n",
      "cmb so_Y5, mb2, done.\n",
      "cmb so_Y5, owls_AGN, done.\n",
      "cmb so_Y5, HzAGN, done.\n",
      "Done!\n"
     ]
    }
   ],
   "source": [
    "for year_option in [0,1]:\n",
    "    for baryon in baryon_types:\n",
    "        call([\"./like_fourier\",str(year_option),baryon])\n",
    "        print(\"cmb %s, %s, done.\"%(cmbs[year_option],baryon))\n",
    "print(\"Done!\")"
   ]
  },
  {
   "cell_type": "code",
   "execution_count": 12,
   "metadata": {},
   "outputs": [
    {
     "name": "stdout",
     "output_type": "stream",
     "text": [
      "6x2pt_LSSTxSO_Y1, eagle updated.\n",
      "6x2pt_LSSTxSO_Y1, illustris updated.\n",
      "6x2pt_LSSTxSO_Y1, TNG100 updated.\n",
      "6x2pt_LSSTxSO_Y1, mb2 updated.\n",
      "6x2pt_LSSTxSO_Y1, owls_AGN updated.\n",
      "6x2pt_LSSTxSO_Y1, HzAGN updated.\n",
      "------\n",
      "6x2pt_LSSTxSO_Y6, eagle updated.\n",
      "6x2pt_LSSTxSO_Y6, illustris updated.\n",
      "6x2pt_LSSTxSO_Y6, TNG100 updated.\n",
      "6x2pt_LSSTxSO_Y6, mb2 updated.\n",
      "6x2pt_LSSTxSO_Y6, owls_AGN updated.\n",
      "6x2pt_LSSTxSO_Y6, HzAGN updated.\n",
      "------\n",
      "Done!\n"
     ]
    }
   ],
   "source": [
    "suffices = ['6x2pt_LSSTxSO_Y1','6x2pt_LSSTxSO_Y6']\n",
    "nsheardata = 825\n",
    "nkappashear = 165\n",
    "for datav_suffix in suffices:\n",
    "    dmo_file = np.loadtxt('datav/'+datav_suffix + '_dmo')\n",
    "    dmo_part = dmo_file[nsheardata:-nkappashear,1]\n",
    "    for baryon in baryon_types[1:]:\n",
    "        datavfile = np.loadtxt('datav/'+datav_suffix + '_'+ baryon)\n",
    "        datavfile[nsheardata:-nkappashear,1] = dmo_part\n",
    "        np.savetxt('datav/'+datav_suffix + '_'+ baryon, datavfile, fmt='%d %.6e')\n",
    "        print('%s, %s updated.'%(datav_suffix, baryon))\n",
    "    print('------')\n",
    "print('Done!')"
   ]
  },
  {
   "cell_type": "code",
   "execution_count": 13,
   "metadata": {},
   "outputs": [
    {
     "name": "stdout",
     "output_type": "stream",
     "text": [
      "cmb so_Y1, dmo, done.\n",
      "cmb so_Y1, eagle, done.\n",
      "cmb so_Y1, illustris, done.\n",
      "cmb so_Y1, TNG100, done.\n",
      "cmb so_Y1, mb2, done.\n",
      "cmb so_Y1, owls_AGN, done.\n",
      "cmb so_Y1, HzAGN, done.\n",
      "cmb so_Y5, dmo, done.\n",
      "cmb so_Y5, eagle, done.\n",
      "cmb so_Y5, illustris, done.\n",
      "cmb so_Y5, TNG100, done.\n",
      "cmb so_Y5, mb2, done.\n",
      "cmb so_Y5, owls_AGN, done.\n",
      "cmb so_Y5, HzAGN, done.\n",
      "Done!\n"
     ]
    }
   ],
   "source": [
    "for year_option in [0,1]:\n",
    "    for baryon in baryon_types:\n",
    "        call([\"./like_fourier_1sample\",str(year_option),baryon])\n",
    "        print(\"cmb %s, %s, done.\"%(cmbs[year_option],baryon))\n",
    "print(\"Done!\")"
   ]
  },
  {
   "cell_type": "code",
   "execution_count": 14,
   "metadata": {},
   "outputs": [
    {
     "name": "stdout",
     "output_type": "stream",
     "text": [
      "6x2pt_LSSTxSO_Y1_1sample, eagle updated.\n",
      "6x2pt_LSSTxSO_Y1_1sample, illustris updated.\n",
      "6x2pt_LSSTxSO_Y1_1sample, TNG100 updated.\n",
      "6x2pt_LSSTxSO_Y1_1sample, mb2 updated.\n",
      "6x2pt_LSSTxSO_Y1_1sample, owls_AGN updated.\n",
      "6x2pt_LSSTxSO_Y1_1sample, HzAGN updated.\n",
      "------\n",
      "6x2pt_LSSTxSO_Y6_1sample, eagle updated.\n",
      "6x2pt_LSSTxSO_Y6_1sample, illustris updated.\n",
      "6x2pt_LSSTxSO_Y6_1sample, TNG100 updated.\n",
      "6x2pt_LSSTxSO_Y6_1sample, mb2 updated.\n",
      "6x2pt_LSSTxSO_Y6_1sample, owls_AGN updated.\n",
      "6x2pt_LSSTxSO_Y6_1sample, HzAGN updated.\n",
      "------\n",
      "Done!\n"
     ]
    }
   ],
   "source": [
    "suffices = ['6x2pt_LSSTxSO_Y1_1sample','6x2pt_LSSTxSO_Y6_1sample']\n",
    "nsheardata = 825\n",
    "nkappashear = 165\n",
    "for datav_suffix in suffices:\n",
    "    dmo_file = np.loadtxt('datav/'+datav_suffix + '_dmo')\n",
    "    dmo_part = dmo_file[nsheardata:-nkappashear,1]\n",
    "    for baryon in baryon_types[1:]:\n",
    "        datavfile = np.loadtxt('datav/'+datav_suffix + '_'+ baryon)\n",
    "        datavfile[nsheardata:-nkappashear,1] = dmo_part\n",
    "        np.savetxt('datav/'+datav_suffix + '_'+ baryon, datavfile, fmt='%d %.6e')\n",
    "        print('%s, %s updated.'%(datav_suffix, baryon))\n",
    "    print('------')\n",
    "print('Done!')"
   ]
  },
  {
   "cell_type": "code",
   "execution_count": null,
   "metadata": {},
   "outputs": [],
   "source": []
  }
 ],
 "metadata": {
  "kernelspec": {
   "display_name": "Python 3",
   "language": "python",
   "name": "python3"
  },
  "language_info": {
   "codemirror_mode": {
    "name": "ipython",
    "version": 3
   },
   "file_extension": ".py",
   "mimetype": "text/x-python",
   "name": "python",
   "nbconvert_exporter": "python",
   "pygments_lexer": "ipython3",
   "version": "3.8.0"
  }
 },
 "nbformat": 4,
 "nbformat_minor": 4
}
